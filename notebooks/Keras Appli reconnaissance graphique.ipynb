{
 "cells": [
  {
   "cell_type": "markdown",
   "metadata": {},
   "source": [
    "### Image labelling using CNN"
   ]
  },
  {
   "cell_type": "markdown",
   "metadata": {},
   "source": [
    "This notebook does a transfer learning based on the VGG-16 pre-trained network."
   ]
  },
  {
   "cell_type": "code",
   "execution_count": 1,
   "metadata": {},
   "outputs": [
    {
     "name": "stderr",
     "output_type": "stream",
     "text": [
      "Using Theano backend.\n"
     ]
    }
   ],
   "source": [
    "# Import libraries and modules\n",
    "import numpy as np\n",
    "import pandas as pd\n",
    "import pickle\n",
    "\n",
    "import PIL.Image\n",
    "from PIL import ImageTk\n",
    "\n",
    "from keras.preprocessing.image import load_img as k_load_img\n",
    "from keras.preprocessing.image import img_to_array\n",
    "from keras.applications.vgg16 import preprocess_input\n",
    "\n",
    "from tkinter import *\n",
    "import tkinter.filedialog"
   ]
  },
  {
   "cell_type": "markdown",
   "metadata": {},
   "source": [
    "### Utility methods"
   ]
  },
  {
   "cell_type": "markdown",
   "metadata": {},
   "source": [
    "#### Reading pictures and storing them into an array"
   ]
  },
  {
   "cell_type": "code",
   "execution_count": 2,
   "metadata": {},
   "outputs": [],
   "source": [
    "# Method to read a file picture and return it as VGG-16 requires\n",
    "def load_img_file(picture_file):\n",
    "    # Load picture and resez all to 224x224 pixels\n",
    "    img = k_load_img(picture_file, target_size=(224, 224))\n",
    "    \n",
    "    # Picture has to be converted into Numpy array\n",
    "    img = img_to_array(img)\n",
    "    \n",
    "    return img"
   ]
  },
  {
   "cell_type": "code",
   "execution_count": 3,
   "metadata": {},
   "outputs": [],
   "source": [
    "def predict_breed_img(img_file):\n",
    "    img = load_img_file(img_file)\n",
    "\n",
    "    # Preprocess input as VGG-16 requires it\n",
    "    new_picture = preprocess_input(img)\n",
    "    new_picture = new_picture.reshape(1, 3, 224, 224)\n",
    "\n",
    "    # Normalize all values to be between 0 and 1\n",
    "    new_picture = new_picture.astype('float32')\n",
    "\n",
    "    new_picture /= 255\n",
    "\n",
    "    # Evaluate model on test data\n",
    "    new_label = model.predict(new_picture)\n",
    "\n",
    "    predicted_breed = np.argmax(new_label)\n",
    "    \n",
    "    return predicted_breed\n"
   ]
  },
  {
   "cell_type": "code",
   "execution_count": 4,
   "metadata": {},
   "outputs": [],
   "source": [
    "class UI(Frame):\n",
    "    \n",
    "    def __init__(self, fenetre, **kwargs):\n",
    "        Frame.__init__(self, fenetre, width=768, height=576, **kwargs)\n",
    "        self.pack(fill=BOTH)\n",
    "        \n",
    "        self.titre = Label(self, text=\"Reconnaissance de race de chiens\", font=(\"Arial\", 18))\n",
    "        self.titre.pack()\n",
    "        \n",
    "        self.bouton = Button(self, text=\"Sélectionnez une image\", font=(\"Arial\", 12), command=self.predict_breed )\n",
    "        self.bouton.pack()\n",
    "        \n",
    "        # Create area to display the loaded image\n",
    "        self.canvas = Canvas(self, width=350, height=350)\n",
    "        self.image_dog = self.canvas.create_image(0, 0, anchor=NW)\n",
    "        self.canvas.pack()\n",
    "        \n",
    "        self.breed = Label(self, text=\"Réponse ici\", font=(\"Arial\", 14))\n",
    "        self.breed.pack()\n",
    "        \n",
    "        self.nb = Label(self, text=\"Base {0} races\".format(nb_breeds), font=(\"Arial\", 8))\n",
    "        self.nb.pack()\n",
    "\n",
    "    \n",
    "    def predict_breed(self):\n",
    "        self.breed[\"text\"] = \"Veuillez patienter...\"\n",
    "        # Load image\n",
    "        picture_file = tkinter.filedialog.askopenfilename()\n",
    "\n",
    "        predicted_breed = predict_breed_img(picture_file)\n",
    "        \n",
    "        # Load image to display it\n",
    "        pil_img = PIL.Image.open(picture_file)\n",
    "        \n",
    "        # Resize image to fit into the canvas size\n",
    "        wpercent = (350/float(pil_img.size[0]))\n",
    "        hsize = int((float(pil_img.size[1])*float(wpercent)))\n",
    "        pil_img = pil_img.resize((350,hsize), PIL.Image.ANTIALIAS)\n",
    "        \n",
    "        # Convert image into tkinter compatible format and display it\n",
    "        myImage = ImageTk.PhotoImage(pil_img)\n",
    "        self.myImage = myImage  # Avoid Python garbage collector to remove image data\n",
    "        self.canvas.itemconfig(self.image_dog, image = myImage)\n",
    "               \n",
    "        self.breed[\"text\"] = (\"Ce chien est probablement de race {0} \"\n",
    "                              .format(df_breeds.loc[predicted_breed, ['breed_name']].values[0]))"
   ]
  },
  {
   "cell_type": "markdown",
   "metadata": {},
   "source": [
    "### Main execution"
   ]
  },
  {
   "cell_type": "code",
   "execution_count": 5,
   "metadata": {},
   "outputs": [],
   "source": [
    "if __name__ == \"__main__\":\n",
    "\n",
    "    # Number of dogs breeds to include\n",
    "    nb_breeds = 10\n",
    "\n",
    "    df_breeds = pd.read_csv(\"breeds_list.csv\")\n",
    "\n",
    "    # restore the model\n",
    "    model_name = 'vgg14-{0}-{1}-{2}.pkl'.format(nb_breeds, 'full', '20')\n",
    "    # print('Restoring model {0}'.format(model_name))\n",
    "    input_file = open(model_name, 'rb')\n",
    "    model = pickle.load(input_file)\n",
    "    input_file.close()\n",
    "\n",
    "    # Start graphical User Interface\n",
    "\n",
    "    my_window = Tk()\n",
    "    interface = UI(my_window)\n",
    "    interface.mainloop()\n"
   ]
  },
  {
   "cell_type": "code",
   "execution_count": null,
   "metadata": {},
   "outputs": [],
   "source": []
  }
 ],
 "metadata": {
  "kernelspec": {
   "display_name": "Python 3",
   "language": "python",
   "name": "python3"
  },
  "language_info": {
   "codemirror_mode": {
    "name": "ipython",
    "version": 3
   },
   "file_extension": ".py",
   "mimetype": "text/x-python",
   "name": "python",
   "nbconvert_exporter": "python",
   "pygments_lexer": "ipython3",
   "version": "3.6.6"
  }
 },
 "nbformat": 4,
 "nbformat_minor": 2
}
