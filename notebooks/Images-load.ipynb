{
 "cells": [
  {
   "cell_type": "code",
   "execution_count": 26,
   "metadata": {
    "collapsed": false
   },
   "outputs": [],
   "source": [
    "import numpy as np\n",
    "import pandas as pd\n",
    "import matplotlib.pyplot as plt\n",
    "\n",
    "from os import listdir\n",
    "from os.path import isfile, join\n",
    "from lxml import etree\n",
    "\n",
    "from PIL import Image\n",
    "from PIL import ImageOps as IO\n",
    "import cv2\n",
    "\n",
    "from sklearn.cluster import KMeans"
   ]
  },
  {
   "cell_type": "code",
   "execution_count": 2,
   "metadata": {
    "collapsed": true
   },
   "outputs": [],
   "source": [
    "# Define data directories\n",
    "my_data = \"../data\"\n",
    "annotations = my_data + '/Annotation'        # BO file to be merged with additional information\n",
    "images = my_data + '/Images' # SAP file with order fulfilment dates\n",
    "cropped = my_data + '/Cropped'"
   ]
  },
  {
   "cell_type": "code",
   "execution_count": 3,
   "metadata": {
    "collapsed": false
   },
   "outputs": [
    {
     "name": "stdout",
     "output_type": "stream",
     "text": [
      "n02085620-Chihuahua\n",
      "n02085782-Japanese_spaniel\n",
      "n02085936-Maltese_dog\n",
      "n02086079-Pekinese\n",
      "n02086240-Shih-Tzu\n",
      "n02086646-Blenheim_spaniel\n",
      "n02086910-papillon\n",
      "n02087046-toy_terrier\n",
      "n02087394-Rhodesian_ridgeback\n",
      "n02088094-Afghan_hound\n",
      "n02088238-basset\n",
      "n02088364-beagle\n",
      "n02088466-bloodhound\n",
      "n02088632-bluetick\n",
      "n02089078-black-and-tan_coonhound\n",
      "n02089867-Walker_hound\n",
      "n02089973-English_foxhound\n",
      "n02090379-redbone\n",
      "n02090622-borzoi\n",
      "n02090721-Irish_wolfhound\n",
      "n02091032-Italian_greyhound\n",
      "n02091134-whippet\n",
      "n02091244-Ibizan_hound\n",
      "n02091467-Norwegian_elkhound\n",
      "n02091635-otterhound\n",
      "n02091831-Saluki\n",
      "n02092002-Scottish_deerhound\n",
      "n02092339-Weimaraner\n",
      "n02093256-Staffordshire_bullterrier\n",
      "n02093428-American_Staffordshire_terrier\n",
      "n02093647-Bedlington_terrier\n",
      "n02093754-Border_terrier\n",
      "n02093859-Kerry_blue_terrier\n",
      "n02093991-Irish_terrier\n",
      "n02094114-Norfolk_terrier\n",
      "n02094258-Norwich_terrier\n",
      "n02094433-Yorkshire_terrier\n",
      "n02095314-wire-haired_fox_terrier\n",
      "n02095570-Lakeland_terrier\n",
      "n02095889-Sealyham_terrier\n",
      "n02096051-Airedale\n",
      "n02096177-cairn\n",
      "n02096294-Australian_terrier\n",
      "n02096437-Dandie_Dinmont\n",
      "n02096585-Boston_bull\n",
      "n02097047-miniature_schnauzer\n",
      "n02097130-giant_schnauzer\n",
      "n02097209-standard_schnauzer\n",
      "n02097298-Scotch_terrier\n",
      "n02097474-Tibetan_terrier\n",
      "n02097658-silky_terrier\n",
      "n02098105-soft-coated_wheaten_terrier\n",
      "n02098286-West_Highland_white_terrier\n",
      "n02098413-Lhasa\n",
      "n02099267-flat-coated_retriever\n",
      "n02099429-curly-coated_retriever\n",
      "n02099601-golden_retriever\n",
      "n02099712-Labrador_retriever\n",
      "n02099849-Chesapeake_Bay_retriever\n",
      "n02100236-German_short-haired_pointer\n",
      "n02100583-vizsla\n",
      "n02100735-English_setter\n",
      "n02100877-Irish_setter\n",
      "n02101006-Gordon_setter\n",
      "n02101388-Brittany_spaniel\n",
      "n02101556-clumber\n",
      "n02102040-English_springer\n",
      "n02102177-Welsh_springer_spaniel\n",
      "n02102318-cocker_spaniel\n",
      "n02102480-Sussex_spaniel\n",
      "n02102973-Irish_water_spaniel\n",
      "n02104029-kuvasz\n",
      "n02104365-schipperke\n",
      "n02105056-groenendael\n",
      "n02105162-malinois\n",
      "n02105251-briard\n",
      "n02105412-kelpie\n",
      "n02105505-komondor\n",
      "n02105641-Old_English_sheepdog\n",
      "n02105855-Shetland_sheepdog\n",
      "n02106030-collie\n",
      "n02106166-Border_collie\n",
      "n02106382-Bouvier_des_Flandres\n",
      "n02106550-Rottweiler\n",
      "n02106662-German_shepherd\n",
      "n02107142-Doberman\n",
      "n02107312-miniature_pinscher\n",
      "n02107574-Greater_Swiss_Mountain_dog\n",
      "n02107683-Bernese_mountain_dog\n",
      "n02107908-Appenzeller\n",
      "n02108000-EntleBucher\n",
      "n02108089-boxer\n",
      "n02108422-bull_mastiff\n",
      "n02108551-Tibetan_mastiff\n",
      "n02108915-French_bulldog\n",
      "n02109047-Great_Dane\n",
      "n02109525-Saint_Bernard\n",
      "n02109961-Eskimo_dog\n",
      "n02110063-malamute\n",
      "n02110185-Siberian_husky\n",
      "n02110627-affenpinscher\n",
      "n02110806-basenji\n",
      "n02110958-pug\n",
      "n02111129-Leonberg\n",
      "n02111277-Newfoundland\n",
      "n02111500-Great_Pyrenees\n",
      "n02111889-Samoyed\n",
      "n02112018-Pomeranian\n",
      "n02112137-chow\n",
      "n02112350-keeshond\n",
      "n02112706-Brabancon_griffon\n",
      "n02113023-Pembroke\n",
      "n02113186-Cardigan\n",
      "n02113624-toy_poodle\n",
      "n02113712-miniature_poodle\n",
      "n02113799-standard_poodle\n",
      "n02113978-Mexican_hairless\n",
      "n02115641-dingo\n",
      "n02115913-dhole\n",
      "n02116738-African_hunting_dog\n"
     ]
    }
   ],
   "source": [
    "# Convert all pictures into cropped and autocontrasted version\n",
    "# Explore all picture folders\n",
    "folders = [f for f in listdir(annotations) if (~isfile(join(annotations, f)) &\n",
    "                                                f.lower().startswith('n02'))]\n",
    "\n",
    "for folder in folders:\n",
    "    print(folder)\n",
    "    current_folder = join(annotations, folder)\n",
    "    files = [f for f in listdir(current_folder) if (isfile(join(current_folder, f)))]\n",
    "    for file in files:\n",
    "        # Read each picture\n",
    "        current_file = join(current_folder, file)      \n",
    "        picture_file = join(images, folder, file + '.jpg')\n",
    "        img = Image.open(picture_file) \n",
    "        \n",
    "        # Get crop region for each picture\n",
    "        tree = etree.parse(current_file)\n",
    "        for coord in tree.xpath(\"/annotation/object/bndbox\"):\n",
    "            xmin_el = int(coord.xpath(\"xmin\")[0].text)\n",
    "            xmax_el = int(coord.xpath(\"xmax\")[0].text)\n",
    "            ymin_el = int(coord.xpath(\"ymin\")[0].text)\n",
    "            ymax_el = int(coord.xpath(\"ymax\")[0].text)\n",
    "        \n",
    "        img_cropped = img.crop((xmin_el,ymin_el,xmax_el,ymax_el))\n",
    "        try:\n",
    "            img_cropped = IO.grayscale(img_cropped)\n",
    "            img_cropped = IO.equalize(img_cropped)\n",
    "            # img_cropped = IO.autocontrast(img_cropped, 1)\n",
    "        except 'OSError':\n",
    "            pass\n",
    "       \n",
    "        out_picture_file = join(cropped, folder, file + '.jpg')\n",
    "        img_cropped.save(out_picture_file)\n"
   ]
  },
  {
   "cell_type": "code",
   "execution_count": 40,
   "metadata": {
    "collapsed": false
   },
   "outputs": [
    {
     "name": "stdout",
     "output_type": "stream",
     "text": [
      "152 images for n02085620-Chihuahua\n",
      "185 images for n02085782-Japanese_spaniel\n",
      "252 images for n02085936-Maltese_dog\n",
      "149 images for n02086079-Pekinese\n",
      "214 images for n02086240-Shih-Tzu\n",
      "188 images for n02086646-Blenheim_spaniel\n",
      "196 images for n02086910-papillon\n",
      "172 images for n02087046-toy_terrier\n",
      "172 images for n02087394-Rhodesian_ridgeback\n",
      "239 images for n02088094-Afghan_hound\n",
      "175 images for n02088238-basset\n",
      "195 images for n02088364-beagle\n",
      "187 images for n02088466-bloodhound\n",
      "171 images for n02088632-bluetick\n",
      "159 images for n02089078-black-and-tan_coonhound\n",
      "153 images for n02089867-Walker_hound\n",
      "157 images for n02089973-English_foxhound\n",
      "148 images for n02090379-redbone\n",
      "151 images for n02090622-borzoi\n",
      "218 images for n02090721-Irish_wolfhound\n",
      "182 images for n02091032-Italian_greyhound\n",
      "187 images for n02091134-whippet\n",
      "188 images for n02091244-Ibizan_hound\n",
      "196 images for n02091467-Norwegian_elkhound\n",
      "151 images for n02091635-otterhound\n",
      "200 images for n02091831-Saluki\n",
      "232 images for n02092002-Scottish_deerhound\n",
      "160 images for n02092339-Weimaraner\n",
      "155 images for n02093256-Staffordshire_bullterrier\n",
      "164 images for n02093428-American_Staffordshire_terrier\n",
      "182 images for n02093647-Bedlington_terrier\n",
      "172 images for n02093754-Border_terrier\n",
      "179 images for n02093859-Kerry_blue_terrier\n",
      "169 images for n02093991-Irish_terrier\n",
      "172 images for n02094114-Norfolk_terrier\n",
      "185 images for n02094258-Norwich_terrier\n",
      "164 images for n02094433-Yorkshire_terrier\n",
      "157 images for n02095314-wire-haired_fox_terrier\n",
      "197 images for n02095570-Lakeland_terrier\n",
      "202 images for n02095889-Sealyham_terrier\n",
      "202 images for n02096051-Airedale\n",
      "197 images for n02096177-cairn\n",
      "196 images for n02096294-Australian_terrier\n",
      "180 images for n02096437-Dandie_Dinmont\n",
      "182 images for n02096585-Boston_bull\n",
      "154 images for n02097047-miniature_schnauzer\n",
      "157 images for n02097130-giant_schnauzer\n",
      "155 images for n02097209-standard_schnauzer\n",
      "158 images for n02097298-Scotch_terrier\n",
      "206 images for n02097474-Tibetan_terrier\n",
      "183 images for n02097658-silky_terrier\n",
      "156 images for n02098105-soft-coated_wheaten_terrier\n",
      "169 images for n02098286-West_Highland_white_terrier\n",
      "186 images for n02098413-Lhasa\n",
      "152 images for n02099267-flat-coated_retriever\n",
      "151 images for n02099429-curly-coated_retriever\n",
      "150 images for n02099601-golden_retriever\n",
      "171 images for n02099712-Labrador_retriever\n",
      "167 images for n02099849-Chesapeake_Bay_retriever\n",
      "152 images for n02100236-German_short-haired_pointer\n",
      "154 images for n02100583-vizsla\n",
      "161 images for n02100735-English_setter\n",
      "155 images for n02100877-Irish_setter\n",
      "153 images for n02101006-Gordon_setter\n",
      "152 images for n02101388-Brittany_spaniel\n",
      "150 images for n02101556-clumber\n",
      "159 images for n02102040-English_springer\n",
      "150 images for n02102177-Welsh_springer_spaniel\n",
      "159 images for n02102318-cocker_spaniel\n",
      "151 images for n02102480-Sussex_spaniel\n",
      "150 images for n02102973-Irish_water_spaniel\n",
      "150 images for n02104029-kuvasz\n",
      "154 images for n02104365-schipperke\n",
      "150 images for n02105056-groenendael\n",
      "150 images for n02105162-malinois\n",
      "152 images for n02105251-briard\n",
      "153 images for n02105412-kelpie\n",
      "154 images for n02105505-komondor\n",
      "169 images for n02105641-Old_English_sheepdog\n",
      "157 images for n02105855-Shetland_sheepdog\n",
      "153 images for n02106030-collie\n",
      "150 images for n02106166-Border_collie\n",
      "150 images for n02106382-Bouvier_des_Flandres\n",
      "152 images for n02106550-Rottweiler\n",
      "152 images for n02106662-German_shepherd\n",
      "150 images for n02107142-Doberman\n",
      "184 images for n02107312-miniature_pinscher\n",
      "168 images for n02107574-Greater_Swiss_Mountain_dog\n",
      "218 images for n02107683-Bernese_mountain_dog\n",
      "151 images for n02107908-Appenzeller\n",
      "202 images for n02108000-EntleBucher\n",
      "151 images for n02108089-boxer\n",
      "156 images for n02108422-bull_mastiff\n",
      "152 images for n02108551-Tibetan_mastiff\n",
      "159 images for n02108915-French_bulldog\n",
      "156 images for n02109047-Great_Dane\n",
      "170 images for n02109525-Saint_Bernard\n",
      "150 images for n02109961-Eskimo_dog\n",
      "178 images for n02110063-malamute\n",
      "192 images for n02110185-Siberian_husky\n",
      "150 images for n02110627-affenpinscher\n",
      "209 images for n02110806-basenji\n",
      "200 images for n02110958-pug\n",
      "210 images for n02111129-Leonberg\n",
      "195 images for n02111277-Newfoundland\n",
      "213 images for n02111500-Great_Pyrenees\n",
      "218 images for n02111889-Samoyed\n",
      "219 images for n02112018-Pomeranian\n",
      "196 images for n02112137-chow\n",
      "158 images for n02112350-keeshond\n",
      "153 images for n02112706-Brabancon_griffon\n",
      "181 images for n02113023-Pembroke\n",
      "155 images for n02113186-Cardigan\n",
      "151 images for n02113624-toy_poodle\n",
      "155 images for n02113712-miniature_poodle\n",
      "159 images for n02113799-standard_poodle\n",
      "155 images for n02113978-Mexican_hairless\n",
      "156 images for n02115641-dingo\n",
      "150 images for n02115913-dhole\n",
      "169 images for n02116738-African_hunting_dog\n"
     ]
    }
   ],
   "source": [
    "# List number of pictures per folder\n",
    "\n",
    "folders = [f for f in listdir(annotations) if (~isfile(join(annotations, f)) &\n",
    "                                                f.lower().startswith('n02'))]\n",
    "\n",
    "for folder in folders:\n",
    "    current_folder = join(annotations, folder)\n",
    "    files = [f for f in listdir(current_folder) if (isfile(join(current_folder, f)))]\n",
    "    print(\"{0} images for {1}\".format(len(files), folder))\n",
    "    "
   ]
  },
  {
   "cell_type": "code",
   "execution_count": 50,
   "metadata": {
    "collapsed": false
   },
   "outputs": [
    {
     "name": "stdout",
     "output_type": "stream",
     "text": [
      "SIFT Features:\n"
     ]
    },
    {
     "data": {
      "text/plain": [
       "<matplotlib.image.AxesImage at 0xd2bd1d0>"
      ]
     },
     "execution_count": 50,
     "metadata": {},
     "output_type": "execute_result"
    }
   ],
   "source": [
    "def gen_sift_features(gray_img):\n",
    "    sift = cv2.xfeatures2d.SIFT_create()\n",
    "    # kp is the keypoints\n",
    "    #\n",
    "    # desc is the SIFT descriptors, they're 128-dimensional vectors\n",
    "    # that we can use for our final features\n",
    "    kp, desc = sift.detectAndCompute(gray_img, None)\n",
    "    return kp, desc\n",
    "\n",
    "def show_sift_features(gray_img, color_img, kp):\n",
    "    return plt.imshow(cv2.drawKeypoints(gray_img, kp, color_img.copy()))\n",
    "\n",
    "def load_img(img_folder, img_file):\n",
    "    picture_file = join(cropped, img_folder, img_file)\n",
    "    img = Image.open(picture_file)\n",
    "    img_sift = np.array(img)\n",
    "    return img_sift\n",
    "\n",
    "folder = \"n02085782-Japanese_spaniel\"\n",
    "dog_file = \"n02085782_23.jpg\"\n",
    "# generate SIFT keypoints and descriptors\n",
    "dog1_img = load_img(folder, dog_file)\n",
    "dog1_kp, dog1_desc = gen_sift_features(dog1_img)\n",
    "\n",
    "dog_file = \"n02085782_3030.jpg\"\n",
    "dog2_img = load_img(folder, dog_file)\n",
    "dog2_kp, dog2_desc = gen_sift_features(dog2_img)\n",
    "\n",
    "print ('SIFT Features:')\n",
    "show_sift_features(dog1_img, dog1_desc, dog1_kp)\n",
    "\n"
   ]
  },
  {
   "cell_type": "code",
   "execution_count": 51,
   "metadata": {
    "collapsed": false
   },
   "outputs": [
    {
     "data": {
      "text/plain": [
       "128"
      ]
     },
     "execution_count": 51,
     "metadata": {},
     "output_type": "execute_result"
    }
   ],
   "source": [
    "len(dog1_desc[0])\n"
   ]
  },
  {
   "cell_type": "code",
   "execution_count": 52,
   "metadata": {
    "collapsed": false
   },
   "outputs": [
    {
     "data": {
      "text/plain": [
       "KMeans(algorithm='auto', copy_x=True, init='k-means++', max_iter=300,\n",
       "    n_clusters=10, n_init=10, n_jobs=1, precompute_distances='auto',\n",
       "    random_state=None, tol=0.0001, verbose=0)"
      ]
     },
     "execution_count": 52,
     "metadata": {},
     "output_type": "execute_result"
    }
   ],
   "source": [
    "\n",
    "n_clusters = 10\n",
    "kmeans = KMeans(n_clusters=n_clusters)\n",
    "kmeans.fit(dog1_desc)"
   ]
  },
  {
   "cell_type": "code",
   "execution_count": 53,
   "metadata": {
    "collapsed": true
   },
   "outputs": [],
   "source": [
    "clusters = kmeans.labels_"
   ]
  },
  {
   "cell_type": "code",
   "execution_count": 54,
   "metadata": {
    "collapsed": false
   },
   "outputs": [
    {
     "data": {
      "text/plain": [
       "317"
      ]
     },
     "execution_count": 54,
     "metadata": {},
     "output_type": "execute_result"
    }
   ],
   "source": [
    "len(clusters)"
   ]
  },
  {
   "cell_type": "code",
   "execution_count": 66,
   "metadata": {
    "collapsed": false
   },
   "outputs": [
    {
     "data": {
      "text/plain": [
       "(array([0, 1, 2, 3, 4, 5, 6, 7, 8, 9]),\n",
       " array([32, 35, 35, 32, 36, 20, 30, 17, 41, 39], dtype=int64))"
      ]
     },
     "execution_count": 66,
     "metadata": {},
     "output_type": "execute_result"
    }
   ],
   "source": [
    "np.unique(clusters, return_counts=True)"
   ]
  },
  {
   "cell_type": "code",
   "execution_count": 67,
   "metadata": {
    "collapsed": false
   },
   "outputs": [
    {
     "data": {
      "text/plain": [
       "array([ 0.10094637,  0.11041009,  0.11041009,  0.10094637,  0.11356467,\n",
       "        0.06309148,  0.09463722,  0.05362776,  0.12933754,  0.12302839])"
      ]
     },
     "execution_count": 67,
     "metadata": {},
     "output_type": "execute_result"
    }
   ],
   "source": [
    "img_histogram_values, img_histogram_count  = np.unique(clusters, return_counts=True)\n",
    "norm_histogram = np.divide(img_histogram_count, float(len(clusters)))\n",
    "norm_histogram"
   ]
  },
  {
   "cell_type": "code",
   "execution_count": 68,
   "metadata": {
    "collapsed": false
   },
   "outputs": [
    {
     "data": {
      "text/plain": [
       "array([0, 1, 2, 3, 4, 5, 6, 7, 8, 9])"
      ]
     },
     "execution_count": 68,
     "metadata": {},
     "output_type": "execute_result"
    }
   ],
   "source": [
    "img_histogram_values"
   ]
  },
  {
   "cell_type": "code",
   "execution_count": 62,
   "metadata": {
    "collapsed": false
   },
   "outputs": [
    {
     "data": {
      "text/plain": [
       "(array([32, 35, 35, 32, 36, 20, 30, 17, 41, 39], dtype=int64),\n",
       " array([  0.,   1.,   2.,   3.,   4.,   5.,   6.,   7.,   8.,   9.,  10.]))"
      ]
     },
     "execution_count": 62,
     "metadata": {},
     "output_type": "execute_result"
    }
   ],
   "source": [
    "img_histogram"
   ]
  },
  {
   "cell_type": "code",
   "execution_count": 61,
   "metadata": {
    "collapsed": false
   },
   "outputs": [
    {
     "data": {
      "text/plain": [
       "array([ array([ 0.10094637,  0.11041009,  0.11041009,  0.10094637,  0.11356467,\n",
       "        0.06309148,  0.09463722,  0.05362776,  0.12933754,  0.12302839]),\n",
       "       array([  0.,   1.,   2.,   3.,   4.,   5.,   6.,   7.,   8.,   9.,  10.])], dtype=object)"
      ]
     },
     "execution_count": 61,
     "metadata": {},
     "output_type": "execute_result"
    }
   ],
   "source": [
    "img_histogram = np.histogram(clusters, bins=n_clusters, range=(0,n_clusters))\n",
    "norm_histogram = np.divide(img_histogram, np.array([len(clusters), 1.0]))\n",
    "norm_histogram"
   ]
  },
  {
   "cell_type": "code",
   "execution_count": 15,
   "metadata": {
    "collapsed": false
   },
   "outputs": [
    {
     "data": {
      "text/plain": [
       "array([ array([ 0.85185185,  1.07407407,  1.59259259,  1.18518519,  1.18518519,\n",
       "        0.88888889,  0.96296296,  1.22222222,  1.03703704,  1.74074074]),\n",
       "       array([  0.,   1.,   2.,   3.,   4.,   5.,   6.,   7.,   8.,   9.,  10.])], dtype=object)"
      ]
     },
     "execution_count": 15,
     "metadata": {},
     "output_type": "execute_result"
    }
   ],
   "source": [
    "np.divide(img_histogram, np.array([27, 1.0]))"
   ]
  },
  {
   "cell_type": "code",
   "execution_count": 16,
   "metadata": {
    "collapsed": false
   },
   "outputs": [
    {
     "data": {
      "text/plain": [
       "array([[ 26.39130592,  27.17391205,  21.04347801, ...,  17.86956406,\n",
       "         28.47826004,  19.60869598],\n",
       "       [ 14.17241383,   9.00000477,   5.10344315, ...,  15.44827461,\n",
       "          3.62069178,   5.37931061],\n",
       "       [ 12.37208843,  22.93023491,  26.65116501, ...,  25.62790489,\n",
       "         22.79069519,  17.1860466 ],\n",
       "       ..., \n",
       "       [ 20.42424393,  10.00000381,  10.96969604, ...,   8.30302906,\n",
       "         10.39393902,  16.39393997],\n",
       "       [ 33.6071434 ,  41.28572083,  33.99999619, ...,   9.        ,\n",
       "         12.21428394,  24.7142868 ],\n",
       "       [ 19.72340584,   9.68085575,   8.12766361, ...,   3.85106659,\n",
       "          5.1914897 ,  11.95744705]], dtype=float32)"
      ]
     },
     "execution_count": 16,
     "metadata": {},
     "output_type": "execute_result"
    }
   ],
   "source": [
    "kmeans.cluster_centers_"
   ]
  },
  {
   "cell_type": "code",
   "execution_count": 17,
   "metadata": {
    "collapsed": false
   },
   "outputs": [
    {
     "data": {
      "text/plain": [
       "<matplotlib.image.AxesImage at 0x9955470>"
      ]
     },
     "execution_count": 17,
     "metadata": {},
     "output_type": "execute_result"
    }
   ],
   "source": [
    "show_sift_features(dog2_img, dog2_desc, dog2_kp)"
   ]
  },
  {
   "cell_type": "code",
   "execution_count": 8,
   "metadata": {
    "collapsed": false
   },
   "outputs": [],
   "source": [
    "import scipy.io\n",
    "mat_Train = scipy.io.loadmat(my_data + '/train_list.mat')"
   ]
  },
  {
   "cell_type": "code",
   "execution_count": 9,
   "metadata": {
    "collapsed": false
   },
   "outputs": [
    {
     "data": {
      "text/plain": [
       "{'__globals__': [],\n",
       " '__header__': 'MATLAB 5.0 MAT-file, Platform: GLNXA64, Created on: Sun Oct  9 08:36:13 2011',\n",
       " '__version__': '1.0',\n",
       " 'annotation_list': array([[array([u'n02085620-Chihuahua/n02085620_5927'],\n",
       "       dtype='<U34')],\n",
       "        [array([u'n02085620-Chihuahua/n02085620_4441'],\n",
       "       dtype='<U34')],\n",
       "        [array([u'n02085620-Chihuahua/n02085620_1502'],\n",
       "       dtype='<U34')],\n",
       "        ..., \n",
       "        [ array([u'n02116738-African_hunting_dog/n02116738_6754'],\n",
       "       dtype='<U44')],\n",
       "        [ array([u'n02116738-African_hunting_dog/n02116738_9333'],\n",
       "       dtype='<U44')],\n",
       "        [ array([u'n02116738-African_hunting_dog/n02116738_2503'],\n",
       "       dtype='<U44')]], dtype=object),\n",
       " 'file_list': array([[array([u'n02085620-Chihuahua/n02085620_5927.jpg'],\n",
       "       dtype='<U38')],\n",
       "        [array([u'n02085620-Chihuahua/n02085620_4441.jpg'],\n",
       "       dtype='<U38')],\n",
       "        [array([u'n02085620-Chihuahua/n02085620_1502.jpg'],\n",
       "       dtype='<U38')],\n",
       "        ..., \n",
       "        [ array([u'n02116738-African_hunting_dog/n02116738_6754.jpg'],\n",
       "       dtype='<U48')],\n",
       "        [ array([u'n02116738-African_hunting_dog/n02116738_9333.jpg'],\n",
       "       dtype='<U48')],\n",
       "        [ array([u'n02116738-African_hunting_dog/n02116738_2503.jpg'],\n",
       "       dtype='<U48')]], dtype=object),\n",
       " 'labels': array([[  1],\n",
       "        [  1],\n",
       "        [  1],\n",
       "        ..., \n",
       "        [120],\n",
       "        [120],\n",
       "        [120]], dtype=uint8)}"
      ]
     },
     "execution_count": 9,
     "metadata": {},
     "output_type": "execute_result"
    }
   ],
   "source": [
    "mat_Train\n"
   ]
  },
  {
   "cell_type": "code",
   "execution_count": 10,
   "metadata": {
    "collapsed": false
   },
   "outputs": [],
   "source": [
    "dogs_annotation = []\n",
    "\n",
    "for img_annotation in mat_Train['annotation_list']:\n",
    "    dog_annotation = str(img_annotation[0][0])\n",
    "    dogs_annotation.append(dog_annotation)"
   ]
  },
  {
   "cell_type": "code",
   "execution_count": 11,
   "metadata": {
    "collapsed": true
   },
   "outputs": [],
   "source": [
    "dogs_full_path = []\n",
    "dogs_folder = []\n",
    "dogs_file = []\n",
    "\n",
    "for img_file in mat_Train['file_list']:\n",
    "    dog_full_path = str(img_file[0][0])\n",
    "    folder, file =  dog_full_path.split('/')\n",
    "    dogs_full_path.append(dog_full_path)\n",
    "    dogs_folder.append(folder)\n",
    "    dogs_file.append(file)"
   ]
  },
  {
   "cell_type": "code",
   "execution_count": 76,
   "metadata": {
    "collapsed": false
   },
   "outputs": [],
   "source": [
    "train_df = pd.DataFrame({'file' : dogs_file,\n",
    "                         'folder' : dogs_folder,\n",
    "                         'full_path' : dogs_full_path,\n",
    "                         'annotation' : dogs_annotation,\n",
    "                         'centroid' : np.NaN,\n",
    "                         'histogram' : np.NaN})"
   ]
  },
  {
   "cell_type": "code",
   "execution_count": 13,
   "metadata": {
    "collapsed": false
   },
   "outputs": [],
   "source": [
    "train_df_labels = pd.DataFrame(mat_Train['labels'], columns = ['label'])"
   ]
  },
  {
   "cell_type": "code",
   "execution_count": 85,
   "metadata": {
    "collapsed": true
   },
   "outputs": [],
   "source": [
    "def load_img(img_folder, img_file):\n",
    "    picture_file = join(images, img_folder, img_file)\n",
    "    img = Image.open(picture_file)\n",
    "    img = IO.grayscale(img)\n",
    "    img = IO.equalize(img)\n",
    "    img_sift = np.array(img)\n",
    "    return img_sift"
   ]
  },
  {
   "cell_type": "code",
   "execution_count": 96,
   "metadata": {
    "collapsed": false
   },
   "outputs": [
    {
     "name": "stdout",
     "output_type": "stream",
     "text": [
      "n02085620_5927.jpg\n",
      "n02085620_4441.jpg\n",
      "n02085620_1502.jpg\n",
      "n02085620_1916.jpg\n",
      "n02085620_13151.jpg\n",
      "n02085620_1569.jpg\n",
      "n02085620_9654.jpg\n",
      "n02085620_3975.jpg\n",
      "n02085620_3942.jpg\n",
      "n02085620_9351.jpg\n",
      "n02085620_574.jpg\n",
      "n02085620_4998.jpg\n",
      "n02085620_7.jpg\n",
      "n02085620_1617.jpg\n",
      "n02085620_11140.jpg\n",
      "n02085620_5771.jpg\n",
      "n02085620_275.jpg\n",
      "n02085620_9399.jpg\n",
      "n02085620_10621.jpg\n",
      "n02085620_4266.jpg\n",
      "n02085620_7738.jpg\n",
      "n02085620_3110.jpg\n",
      "n02085620_12101.jpg\n",
      "n02085620_8558.jpg\n",
      "n02085620_7700.jpg\n",
      "n02085620_3208.jpg\n",
      "n02085620_5312.jpg\n",
      "n02085620_1152.jpg\n",
      "n02085620_4572.jpg\n",
      "n02085620_2706.jpg\n",
      "n02085620_473.jpg\n",
      "n02085620_1455.jpg\n",
      "n02085620_7440.jpg\n",
      "n02085620_9414.jpg\n",
      "n02085620_2208.jpg\n",
      "n02085620_3593.jpg\n",
      "n02085620_2921.jpg\n",
      "n02085620_500.jpg\n",
      "n02085620_9357.jpg\n",
      "n02085620_949.jpg\n",
      "n02085620_3423.jpg\n",
      "n02085620_3651.jpg\n",
      "n02085620_3407.jpg\n",
      "n02085620_2973.jpg\n",
      "n02085620_326.jpg\n",
      "n02085620_7292.jpg\n",
      "n02085620_4814.jpg\n",
      "n02085620_7613.jpg\n",
      "n02085620_2614.jpg\n",
      "n02085620_1558.jpg\n",
      "n02085620_11238.jpg\n",
      "n02085620_3838.jpg\n",
      "n02085620_4673.jpg\n",
      "n02085620_1816.jpg\n",
      "n02085620_4515.jpg\n",
      "n02085620_2887.jpg\n",
      "n02085620_3488.jpg\n",
      "n02085620_8611.jpg\n",
      "n02085620_3681.jpg\n",
      "n02085620_3880.jpg\n",
      "n02085620_2053.jpg\n",
      "n02085620_14413.jpg\n",
      "n02085620_712.jpg\n",
      "n02085620_8637.jpg\n",
      "n02085620_952.jpg\n",
      "n02085620_12334.jpg\n",
      "n02085620_735.jpg\n",
      "n02085620_199.jpg\n",
      "n02085620_575.jpg\n",
      "n02085620_2479.jpg\n",
      "n02085620_4980.jpg\n",
      "n02085620_431.jpg\n",
      "n02085620_368.jpg\n",
      "n02085620_11948.jpg\n",
      "n02085620_242.jpg\n",
      "n02085620_2793.jpg\n",
      "n02085620_2981.jpg\n",
      "n02085620_8636.jpg\n",
      "n02085620_4700.jpg\n",
      "n02085620_4016.jpg\n",
      "n02085620_5661.jpg\n",
      "n02085620_11258.jpg\n",
      "n02085620_3093.jpg\n",
      "n02085620_382.jpg\n",
      "n02085620_8491.jpg\n",
      "n02085620_3928.jpg\n",
      "n02085620_4290.jpg\n",
      "n02085620_8420.jpg\n",
      "n02085620_3763.jpg\n",
      "n02085620_2903.jpg\n"
     ]
    },
    {
     "ename": "KeyboardInterrupt",
     "evalue": "",
     "output_type": "error",
     "traceback": [
      "\u001b[1;31m---------------------------------------------------------------------------\u001b[0m",
      "\u001b[1;31mKeyboardInterrupt\u001b[0m                         Traceback (most recent call last)",
      "\u001b[1;32m<ipython-input-96-ef1dcd1a2cb7>\u001b[0m in \u001b[0;36m<module>\u001b[1;34m()\u001b[0m\n\u001b[0;32m     10\u001b[0m     \u001b[1;31m#\u001b[0m\u001b[1;33m\u001b[0m\u001b[1;33m\u001b[0m\u001b[0m\n\u001b[0;32m     11\u001b[0m     \u001b[1;31m# desc is the SIFT descriptors, they're 128-dimensional vectors\u001b[0m\u001b[1;33m\u001b[0m\u001b[1;33m\u001b[0m\u001b[0m\n\u001b[1;32m---> 12\u001b[1;33m     \u001b[0mkeypoints\u001b[0m\u001b[1;33m,\u001b[0m \u001b[0mdescriptors\u001b[0m \u001b[1;33m=\u001b[0m \u001b[0msift\u001b[0m\u001b[1;33m.\u001b[0m\u001b[0mdetectAndCompute\u001b[0m\u001b[1;33m(\u001b[0m\u001b[0mgray_img\u001b[0m\u001b[1;33m,\u001b[0m \u001b[0mNone\u001b[0m\u001b[1;33m)\u001b[0m\u001b[1;33m\u001b[0m\u001b[0m\n\u001b[0m\u001b[0;32m     13\u001b[0m     \u001b[0mdescriptors_list\u001b[0m\u001b[1;33m.\u001b[0m\u001b[0mappend\u001b[0m\u001b[1;33m(\u001b[0m\u001b[0mdescriptors\u001b[0m\u001b[1;33m)\u001b[0m\u001b[1;33m\u001b[0m\u001b[0m\n",
      "\u001b[1;31mKeyboardInterrupt\u001b[0m: "
     ]
    }
   ],
   "source": [
    "descriptors_list = []\n",
    "img_index = 0\n",
    "\n",
    "sift = cv2.xfeatures2d.SIFT_create()\n",
    "\n",
    "for dog_folder, dog_file in np.array(train_df[['folder', 'file']]):\n",
    "    print(dog_file)\n",
    "    gray_img = load_img(dog_folder, dog_file)\n",
    "\n",
    "    # kp is the keypoints\n",
    "    #\n",
    "    # desc is the SIFT descriptors, they're 128-dimensional vectors\n",
    "    keypoints, descriptors = sift.detectAndCompute(gray_img, None)\n",
    "    descriptors_list.append(descriptors)\n",
    "    img_index += 1\n",
    "    \n",
    "print(\"{0} images processed\".format(img_index))\n"
   ]
  },
  {
   "cell_type": "code",
   "execution_count": 101,
   "metadata": {
    "collapsed": false
   },
   "outputs": [
    {
     "data": {
      "text/plain": [
       "89"
      ]
     },
     "execution_count": 101,
     "metadata": {},
     "output_type": "execute_result"
    }
   ],
   "source": [
    "descriptors_list"
   ]
  },
  {
   "cell_type": "code",
   "execution_count": null,
   "metadata": {
    "collapsed": true
   },
   "outputs": [],
   "source": [
    "n_clusters = 10\n",
    "kmeans = KMeans(n_clusters=n_clusters)\n",
    "# Number of descriptors should be more than n_clusters\n",
    "    if len(desc) > 3 * n_clusters:\n",
    "        # Do a clustering of the feature descriptors\n",
    "        kmeans.fit(desc)\n",
    "        clusters = kmeans.labels_\n",
    "        centroids.append(kmeans.cluster_centers_)\n",
    "        # train_df.loc[train_df['file'] == dog_file, 'centroid'] = [kmeans.cluster_centers_]\n",
    "        # train_df.set_value(img_index, 'centroid', [1, 2, 3])\n",
    "\n",
    "        img_histogram_values, img_histogram_count  = np.unique(clusters, return_counts=True)\n",
    "        norm_histogram = np.divide(img_histogram_count, float(len(clusters)))\n",
    "        histograms.append(norm_histogram)\n",
    "        # train_df.loc[train_df['file'] == dog_file, 'histogram'] = norm_histogram"
   ]
  }
 ],
 "metadata": {
  "kernelspec": {
   "display_name": "Python 2",
   "language": "python",
   "name": "python2"
  },
  "language_info": {
   "codemirror_mode": {
    "name": "ipython",
    "version": 2
   },
   "file_extension": ".py",
   "mimetype": "text/x-python",
   "name": "python",
   "nbconvert_exporter": "python",
   "pygments_lexer": "ipython2",
   "version": "2.7.13"
  }
 },
 "nbformat": 4,
 "nbformat_minor": 2
}
